{
 "cells": [
  {
   "cell_type": "code",
   "execution_count": 4,
   "metadata": {},
   "outputs": [
    {
     "name": "stdout",
     "output_type": "stream",
     "text": [
      "The entered mud weight in kg/m3 is: 1250\n",
      "Mud Weight in ppg: 10.43175\n",
      "Mud Weight in psi/ft: 0.5425\n",
      "Specific Gravity: 1.25\n"
     ]
    }
   ],
   "source": [
    "def unit_conversion(a):\n",
    " \"\"\"\n",
    " This function is used to convert units of mud weight.\n",
    " Input: Mud Weight in kg/m3\n",
    " Output: Mud Weight in ppg or psi/ft or specific gravity\n",
    " \"\"\"\n",
    " print('The entered mud weight in kg/m3 is:', a)\n",
    " mw_ppg = a * 0.0083454\n",
    "\n",
    "\n",
    " mw_psift = a * 0.000434\n",
    " sp_gravity = a * 0.001\n",
    " print('Mud Weight in ppg:', mw_ppg)\n",
    " print('Mud Weight in psi/ft:', mw_psift)\n",
    " print('Specific Gravity:', sp_gravity)\n",
    "\n",
    "\n",
    "# enter the input for mud weight in kg/m3\n",
    "\n",
    "mud_weight = 1250\n",
    "unit_conversion(mud_weight)"
   ]
  },
  {
   "cell_type": "code",
   "execution_count": 5,
   "metadata": {},
   "outputs": [
    {
     "name": "stdout",
     "output_type": "stream",
     "text": [
      "1862.0689655172414\n",
      "3034.4827586206898\n"
     ]
    }
   ],
   "source": [
    "class well():\n",
    " # class attribute\n",
    " well_type = 'oil well'\n",
    " # initializer\n",
    " def __init__(self, api, basin, oil_prod, gas_prod):\n",
    "    self.api = api\n",
    "    self.basin = basin\n",
    "    self.oil_prod = oil_prod # BBL\n",
    "    self.gas_prod = gas_prod # MCF\n",
    " # instance method\n",
    " def boe_calc(self):\n",
    "    boe = self.oil_prod + self.gas_prod/5.8\n",
    "    return boe\n",
    "\n",
    "\n",
    "# instantiating the class\n",
    "well_1 = well(12345, 'Williston', 1000, 5000)\n",
    "# calling a method of the class\n",
    "print(well_1.boe_calc()) # boe production of well_1\n",
    "well_2 = well(78910, 'Permian', 2000, 6000)\n",
    "print(well_2.boe_calc()) # boe production of well_2\n",
    "\n",
    "\n"
   ]
  },
  {
   "cell_type": "code",
   "execution_count": 6,
   "metadata": {},
   "outputs": [
    {
     "name": "stdout",
     "output_type": "stream",
     "text": [
      "API for first well is: 12345 and its in Williston Basin\n",
      "12345 belongs to oil well category\n"
     ]
    }
   ],
   "source": [
    "# access the instance attributes\n",
    "print('API for first well is:', well_1.api, 'and its in',\n",
    "well_1.basin, 'Basin')\n",
    "if well_1.well_type == 'oil well':\n",
    " print(\"{0} belongs to {1} category\".format(well_1.api,\n",
    "well_1.well_type))"
   ]
  }
 ],
 "metadata": {
  "kernelspec": {
   "display_name": "base",
   "language": "python",
   "name": "python3"
  },
  "language_info": {
   "codemirror_mode": {
    "name": "ipython",
    "version": 3
   },
   "file_extension": ".py",
   "mimetype": "text/x-python",
   "name": "python",
   "nbconvert_exporter": "python",
   "pygments_lexer": "ipython3",
   "version": "3.9.13"
  }
 },
 "nbformat": 4,
 "nbformat_minor": 2
}
